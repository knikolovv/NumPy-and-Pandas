{
 "cells": [
  {
   "cell_type": "code",
   "execution_count": 1,
   "id": "52fa4d49-80e1-40e9-adae-530bfdac0719",
   "metadata": {},
   "outputs": [],
   "source": [
    "import numpy as np"
   ]
  },
  {
   "cell_type": "code",
   "execution_count": 5,
   "id": "2f879a4f-9826-48fa-8a57-6cb44de27d85",
   "metadata": {},
   "outputs": [
    {
     "data": {
      "text/plain": [
       "array([[0.24742606, 0.09299006, 0.61176337],\n",
       "       [0.06066207, 0.66103343, 0.75515778],\n",
       "       [0.1108689 , 0.04305584, 0.41441747]])"
      ]
     },
     "execution_count": 5,
     "metadata": {},
     "output_type": "execute_result"
    }
   ],
   "source": [
    "# Assignment 2\n",
    "rng = np.random.default_rng(2022)\n",
    "\n",
    "random_array = rng.random(9).reshape(3,3)\n",
    "\n",
    "random_array"
   ]
  },
  {
   "cell_type": "code",
   "execution_count": 11,
   "id": "c48e6213-2067-458d-8c04-087e99f27611",
   "metadata": {},
   "outputs": [
    {
     "data": {
      "text/plain": [
       "array([[0.24742606, 0.09299006, 0.61176337],\n",
       "       [0.06066207, 0.66103343, 0.75515778]])"
      ]
     },
     "execution_count": 11,
     "metadata": {},
     "output_type": "execute_result"
    }
   ],
   "source": [
    "# Assignment 3\n",
    "random_array[:2]\n"
   ]
  },
  {
   "cell_type": "code",
   "execution_count": 31,
   "id": "36a508d7-a431-48c5-9679-b8cbbf358370",
   "metadata": {},
   "outputs": [
    {
     "data": {
      "text/plain": [
       "array([0.24742606, 0.06066207, 0.1108689 ])"
      ]
     },
     "execution_count": 31,
     "metadata": {},
     "output_type": "execute_result"
    }
   ],
   "source": [
    "random_array[:,0]"
   ]
  },
  {
   "cell_type": "code",
   "execution_count": 37,
   "id": "962da5bc-cecc-4728-a9e5-e0576c21018d",
   "metadata": {},
   "outputs": [
    {
     "data": {
      "text/plain": [
       "0.04305584439252108"
      ]
     },
     "execution_count": 37,
     "metadata": {},
     "output_type": "execute_result"
    }
   ],
   "source": [
    "random_array[2,1]"
   ]
  },
  {
   "cell_type": "code",
   "execution_count": 61,
   "id": "abce8bf7-9cfa-4d62-8647-5dff5a6a39cd",
   "metadata": {},
   "outputs": [],
   "source": [
    "# Assignemnt 4\n",
    "\n",
    "prices = np.array([5.99,6.99,22.49,99.99,4.99,49.99])\n",
    "\n",
    "total = prices + 5\n",
    "\n",
    "discount_pct = random_array[:2,:].reshape(6)"
   ]
  },
  {
   "cell_type": "code",
   "execution_count": 63,
   "id": "5f5db16c-fe78-4f6b-bbc5-796a5dfc14e7",
   "metadata": {},
   "outputs": [],
   "source": [
    "pct_owed = 1 - discount_pct"
   ]
  },
  {
   "cell_type": "code",
   "execution_count": 67,
   "id": "07ec42d9-95dd-4536-a744-07ac56578819",
   "metadata": {},
   "outputs": [],
   "source": [
    "final_owed = pct_owed * total"
   ]
  },
  {
   "cell_type": "code",
   "execution_count": 69,
   "id": "d6d7be23-2657-45cf-9a1a-356902e92dd1",
   "metadata": {},
   "outputs": [
    {
     "data": {
      "text/plain": [
       "array([ 8.27, 10.88, 10.67, 98.62,  3.39, 13.46])"
      ]
     },
     "execution_count": 69,
     "metadata": {},
     "output_type": "execute_result"
    }
   ],
   "source": [
    "final_owed.round(2)"
   ]
  },
  {
   "cell_type": "code",
   "execution_count": 89,
   "id": "9bc6efe1-6f88-460e-95df-bc6a4d6bb772",
   "metadata": {},
   "outputs": [
    {
     "data": {
      "text/plain": [
       "array(['rare tomato', 'gourmet ice cream'], dtype='<U17')"
      ]
     },
     "execution_count": 89,
     "metadata": {},
     "output_type": "execute_result"
    }
   ],
   "source": [
    "# Assignment 5\n",
    "\n",
    "products = np.array(['salad','bread','mustard','rare tomato','cola','gourmet ice cream'])\n",
    "\n",
    "products[prices > 25]"
   ]
  },
  {
   "cell_type": "code",
   "execution_count": 109,
   "id": "a8524fdd-90ee-47a3-bc4d-a47d7102fc49",
   "metadata": {},
   "outputs": [
    {
     "data": {
      "text/plain": [
       "array(['rare tomato', 'cola', 'gourmet ice cream'], dtype='<U17')"
      ]
     },
     "execution_count": 109,
     "metadata": {},
     "output_type": "execute_result"
    }
   ],
   "source": [
    "mask = (prices > 25) | (products == 'cola')\n",
    "fancy_feast_special = products[mask]\n",
    "fancy_feast_special"
   ]
  },
  {
   "cell_type": "code",
   "execution_count": 107,
   "id": "921c353d-6f78-4400-be35-7bf94ae4d75d",
   "metadata": {},
   "outputs": [
    {
     "data": {
      "text/plain": [
       "array([5, 5, 0, 0, 5, 0])"
      ]
     },
     "execution_count": 107,
     "metadata": {},
     "output_type": "execute_result"
    }
   ],
   "source": [
    "new_shipping_cost = np.where(prices > 20,0,5)\n",
    "new_shipping_cost"
   ]
  },
  {
   "cell_type": "code",
   "execution_count": 141,
   "id": "4e618f10-bdfc-4aab-a22d-9e68edf7680b",
   "metadata": {},
   "outputs": [
    {
     "data": {
      "text/plain": [
       "array([22.49, 49.99, 99.99])"
      ]
     },
     "execution_count": 141,
     "metadata": {},
     "output_type": "execute_result"
    }
   ],
   "source": [
    "# Assignment 6\n",
    "\n",
    "prices.sort()\n",
    "top_three_prices = prices[-3:]\n",
    "min_price = top_three_prices.min()\n",
    "max_price = top_three_prices.max()\n",
    "mean_price = top_three_prices.mean()\n",
    "median_price = np.median(top_three_prices)\n",
    "top_three_prices\n"
   ]
  },
  {
   "cell_type": "code",
   "execution_count": 135,
   "id": "38c0218a-b8c6-4687-948c-608955aa5e4f",
   "metadata": {},
   "outputs": [
    {
     "data": {
      "text/plain": [
       "3"
      ]
     },
     "execution_count": 135,
     "metadata": {},
     "output_type": "execute_result"
    }
   ],
   "source": [
    "price_tiers = np.array(['budget','budget','mid-tier','luxury','mid-tier','luxury'])\n",
    "np.unique(price_tiers).size"
   ]
  },
  {
   "cell_type": "code",
   "execution_count": 7,
   "id": "7b6c122b-fe1d-4cdb-9b96-0ee2ab05f209",
   "metadata": {},
   "outputs": [],
   "source": [
    "import pandas as pd\n",
    "import numpy as np\n",
    "\n",
    "retail_df = pd.read_csv(\"retail/retail_2016_2017.csv\",skiprows=range(1,11000),nrows=1000)\n",
    "\n",
    "family_array = np.array(retail_df[\"family\"])\n",
    "sales_array = np.array(retail_df[\"sales\"])"
   ]
  },
  {
   "cell_type": "code",
   "execution_count": 13,
   "id": "ce9df9c0-ee67-4bb0-bd47-015fe309ba9d",
   "metadata": {},
   "outputs": [
    {
     "data": {
      "text/plain": [
       "array([1662.394,  447.064, 2423.944,  962.866, 1236.404,  298.441,\n",
       "       1077.44 , 3404.531,  962.96 ,  279.505, 1852.786, 1089.319,\n",
       "        726.516, 7860.031,  446.038, 1155.385,  120.202,  862.092,\n",
       "        473.952,  254.263, 1272.755, 2775.771, 2030.762, 1657.432,\n",
       "       2339.906,  722.333, 1567.843, 2458.456,  673.885, 8834.15 ])"
      ]
     },
     "execution_count": 13,
     "metadata": {},
     "output_type": "execute_result"
    }
   ],
   "source": [
    "mask = (family_array == \"PRODUCE\")\n",
    "masked_sales_array = sales_array[mask]\n",
    "masked_sales_array"
   ]
  },
  {
   "cell_type": "code",
   "execution_count": 51,
   "id": "0a4696b1-506f-4e4f-a04d-6054b15b8d53",
   "metadata": {},
   "outputs": [],
   "source": [
    "random_array = rng.random(30)\n",
    "sampled_array = masked_sales_array[random_array < 0.5] "
   ]
  },
  {
   "cell_type": "code",
   "execution_count": 33,
   "id": "7988c56b-da46-43c2-a7ea-9057b9fe9088",
   "metadata": {},
   "outputs": [],
   "source": [
    "mean = sampled_array.mean()\n",
    "median = np.median(sampled_array)"
   ]
  },
  {
   "cell_type": "code",
   "execution_count": 53,
   "id": "e59977dd-7be5-4afc-a8e8-4597b5d2f73c",
   "metadata": {},
   "outputs": [
    {
     "data": {
      "text/plain": [
       "array(['below_both', 'above_median', 'below_both', 'below_both',\n",
       "       'below_both', 'above_median', 'below_both', 'below_both',\n",
       "       'above_median', 'above_both', 'above_both', 'below_both',\n",
       "       'above_median', 'above_both', 'above_both'], dtype='<U12')"
      ]
     },
     "execution_count": 53,
     "metadata": {},
     "output_type": "execute_result"
    }
   ],
   "source": [
    "np.where(sampled_array < median,\"below_both\",np.where(sampled_array > mean,\"above_both\",\"above_median\"))"
   ]
  },
  {
   "cell_type": "code",
   "execution_count": null,
   "id": "54b04b3a-c022-47d0-bb1c-3940fc41d203",
   "metadata": {},
   "outputs": [],
   "source": []
  }
 ],
 "metadata": {
  "kernelspec": {
   "display_name": "Python [conda env:base] *",
   "language": "python",
   "name": "conda-base-py"
  },
  "language_info": {
   "codemirror_mode": {
    "name": "ipython",
    "version": 3
   },
   "file_extension": ".py",
   "mimetype": "text/x-python",
   "name": "python",
   "nbconvert_exporter": "python",
   "pygments_lexer": "ipython3",
   "version": "3.12.7"
  }
 },
 "nbformat": 4,
 "nbformat_minor": 5
}
