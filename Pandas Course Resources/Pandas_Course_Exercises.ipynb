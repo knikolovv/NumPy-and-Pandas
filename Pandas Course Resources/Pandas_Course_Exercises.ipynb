{
 "cells": [
  {
   "cell_type": "code",
   "execution_count": 3,
   "id": "76ea6a14-1c1f-4d9e-8358-ab5c711d0fad",
   "metadata": {},
   "outputs": [],
   "source": [
    "import numpy as np\n",
    "import pandas as pd"
   ]
  },
  {
   "cell_type": "code",
   "execution_count": 27,
   "id": "50520243-52ce-4b4e-adb3-013f64aef033",
   "metadata": {},
   "outputs": [],
   "source": [
    "array = np.arange(5)\n",
    "\n",
    "series = pd.Series(array)"
   ]
  },
  {
   "cell_type": "code",
   "execution_count": 29,
   "id": "2eedee52-f571-4f85-aed7-c99eb6320d64",
   "metadata": {},
   "outputs": [
    {
     "data": {
      "text/plain": [
       "array([0, 1, 2, 3, 4])"
      ]
     },
     "execution_count": 29,
     "metadata": {},
     "output_type": "execute_result"
    }
   ],
   "source": [
    "series.values"
   ]
  },
  {
   "cell_type": "code",
   "execution_count": 31,
   "id": "b3362469-34e2-4c28-a856-91bc69f0c3ba",
   "metadata": {},
   "outputs": [
    {
     "data": {
      "text/plain": [
       "2.0"
      ]
     },
     "execution_count": 31,
     "metadata": {},
     "output_type": "execute_result"
    }
   ],
   "source": [
    "series.mean()"
   ]
  },
  {
   "cell_type": "code",
   "execution_count": 41,
   "id": "2f7b7ac4-280f-44d3-bf74-05d967b9342d",
   "metadata": {},
   "outputs": [],
   "source": [
    "series.index = [10,20,30,40,50]"
   ]
  },
  {
   "cell_type": "code",
   "execution_count": 43,
   "id": "40503627-8744-46a9-b520-88b70952cdb2",
   "metadata": {},
   "outputs": [
    {
     "data": {
      "text/plain": [
       "10    0\n",
       "20    1\n",
       "30    2\n",
       "40    3\n",
       "50    4\n",
       "Name: New name, dtype: int32"
      ]
     },
     "execution_count": 43,
     "metadata": {},
     "output_type": "execute_result"
    }
   ],
   "source": [
    "series.name = \"New name\"\n",
    "series"
   ]
  },
  {
   "cell_type": "code",
   "execution_count": 49,
   "id": "e35a15d4-7fa4-476c-83af-be5ae7a6a24a",
   "metadata": {},
   "outputs": [
    {
     "data": {
      "text/plain": [
       "10    0.0\n",
       "20    1.0\n",
       "30    2.0\n",
       "40    3.0\n",
       "50    4.0\n",
       "Name: New name, dtype: float64"
      ]
     },
     "execution_count": 49,
     "metadata": {},
     "output_type": "execute_result"
    }
   ],
   "source": [
    "series = series.astype(\"float\")\n",
    "series"
   ]
  },
  {
   "cell_type": "code",
   "execution_count": 51,
   "id": "ba7c2284-7003-4804-87c6-1f805f9bd694",
   "metadata": {},
   "outputs": [
    {
     "data": {
      "text/plain": [
       "0    a\n",
       "1    b\n",
       "2    c\n",
       "dtype: object"
      ]
     },
     "execution_count": 51,
     "metadata": {},
     "output_type": "execute_result"
    }
   ],
   "source": [
    "pd.Series(['a','b','c'])"
   ]
  },
  {
   "cell_type": "code",
   "execution_count": 7,
   "id": "105b35ed-b2fd-470f-b309-1da438d5fb36",
   "metadata": {},
   "outputs": [
    {
     "data": {
      "text/plain": [
       "0    0\n",
       "1    1\n",
       "2    2\n",
       "3    3\n",
       "4    4\n",
       "dtype: int64"
      ]
     },
     "execution_count": 7,
     "metadata": {},
     "output_type": "execute_result"
    }
   ],
   "source": [
    "my_series = pd.Series(range(5))\n",
    "\n",
    "my_series"
   ]
  },
  {
   "cell_type": "code",
   "execution_count": 11,
   "id": "89faf060-f225-4a19-add3-a8f98b6fdde9",
   "metadata": {},
   "outputs": [
    {
     "data": {
      "text/plain": [
       "1    1\n",
       "2    2\n",
       "dtype: int64"
      ]
     },
     "execution_count": 11,
     "metadata": {},
     "output_type": "execute_result"
    }
   ],
   "source": [
    "my_series[1:3]"
   ]
  },
  {
   "cell_type": "code",
   "execution_count": 13,
   "id": "3c689b03-ae3b-4d74-a90f-3513df7d0164",
   "metadata": {},
   "outputs": [
    {
     "data": {
      "text/plain": [
       "day 0    0\n",
       "day 1    1\n",
       "day 2    2\n",
       "day 3    3\n",
       "day 4    4\n",
       "dtype: int64"
      ]
     },
     "execution_count": 13,
     "metadata": {},
     "output_type": "execute_result"
    }
   ],
   "source": [
    "my_series = pd.Series(range(5), index = [\"day 0\",\"day 1\",\"day 2\",\"day 3\",\"day 4\"])\n",
    "my_series"
   ]
  },
  {
   "cell_type": "code",
   "execution_count": 15,
   "id": "57894cb9-ae31-4d27-bea6-9f91dea8b394",
   "metadata": {},
   "outputs": [
    {
     "data": {
      "text/plain": [
       "3"
      ]
     },
     "execution_count": 15,
     "metadata": {},
     "output_type": "execute_result"
    }
   ],
   "source": [
    "my_series[\"day 3\"]"
   ]
  },
  {
   "cell_type": "code",
   "execution_count": 19,
   "id": "959324ac-24a4-489e-b7ac-ae8b561f6a08",
   "metadata": {},
   "outputs": [
    {
     "data": {
      "text/plain": [
       "2"
      ]
     },
     "execution_count": 19,
     "metadata": {},
     "output_type": "execute_result"
    }
   ],
   "source": [
    "my_series.iloc[2]"
   ]
  },
  {
   "cell_type": "code",
   "execution_count": 23,
   "id": "6cfecb82-add0-4d0d-9216-64ddb1553816",
   "metadata": {},
   "outputs": [
    {
     "data": {
      "text/plain": [
       "day 1    1\n",
       "day 2    2\n",
       "day 3    3\n",
       "dtype: int64"
      ]
     },
     "execution_count": 23,
     "metadata": {},
     "output_type": "execute_result"
    }
   ],
   "source": [
    "my_series.iloc[[1,2,3]]"
   ]
  },
  {
   "cell_type": "code",
   "execution_count": 27,
   "id": "f8fad84e-1dcd-4cf8-a2f2-251bd6b4b0d2",
   "metadata": {},
   "outputs": [
    {
     "data": {
      "text/plain": [
       "0"
      ]
     },
     "execution_count": 27,
     "metadata": {},
     "output_type": "execute_result"
    }
   ],
   "source": [
    "my_series.loc[\"day 0\"]"
   ]
  },
  {
   "cell_type": "code",
   "execution_count": 29,
   "id": "e9085a86-cbed-4d5c-8ad7-0cf47c22b59e",
   "metadata": {},
   "outputs": [
    {
     "data": {
      "text/plain": [
       "day 1    1\n",
       "day 2    2\n",
       "day 3    3\n",
       "dtype: int64"
      ]
     },
     "execution_count": 29,
     "metadata": {},
     "output_type": "execute_result"
    }
   ],
   "source": [
    "my_series.loc[\"day 1\":\"day 3\"]"
   ]
  },
  {
   "cell_type": "code",
   "execution_count": 33,
   "id": "2e8bd961-bf73-4c6f-84f1-19e1c9dcf69d",
   "metadata": {},
   "outputs": [
    {
     "data": {
      "text/plain": [
       "Index(['day 0', 'day 0', 'day 0', 'day 3', 'day 3'], dtype='object')"
      ]
     },
     "execution_count": 33,
     "metadata": {},
     "output_type": "execute_result"
    }
   ],
   "source": [
    "my_series_dup = pd.Series(range(5), index = [\"day 0\",\"day 0\",\"day 0\",\"day 3\",\"day 3\"])\n",
    "\n",
    "my_series_dup.index"
   ]
  },
  {
   "cell_type": "code",
   "execution_count": 39,
   "id": "35a7c1c2-5355-49a0-8492-09576c7f01e6",
   "metadata": {},
   "outputs": [
    {
     "data": {
      "text/plain": [
       "day 0    0\n",
       "day 0    1\n",
       "day 0    2\n",
       "dtype: int64"
      ]
     },
     "execution_count": 39,
     "metadata": {},
     "output_type": "execute_result"
    }
   ],
   "source": [
    "my_series_dup[\"day 0\"]"
   ]
  },
  {
   "cell_type": "code",
   "execution_count": 45,
   "id": "c7ea2829-4815-4dc1-9e8e-66baac0f7178",
   "metadata": {},
   "outputs": [
    {
     "data": {
      "text/plain": [
       "0    0\n",
       "1    1\n",
       "2    2\n",
       "3    3\n",
       "4    4\n",
       "dtype: int64"
      ]
     },
     "execution_count": 45,
     "metadata": {},
     "output_type": "execute_result"
    }
   ],
   "source": [
    "my_series_dup.reset_index(drop=True)"
   ]
  },
  {
   "cell_type": "code",
   "execution_count": 53,
   "id": "83066a46-5116-470f-8d7b-fcb5b2e5dd46",
   "metadata": {},
   "outputs": [
    {
     "data": {
      "text/plain": [
       "2"
      ]
     },
     "execution_count": 53,
     "metadata": {},
     "output_type": "execute_result"
    }
   ],
   "source": [
    "my_series_dup.iloc[2]"
   ]
  },
  {
   "cell_type": "code",
   "execution_count": 61,
   "id": "a12e15e3-b670-4e9e-90b9-03c998fc74f9",
   "metadata": {},
   "outputs": [
    {
     "data": {
      "text/plain": [
       "day 0    0\n",
       "day 1    1\n",
       "day 3    3\n",
       "day 4    4\n",
       "dtype: int64"
      ]
     },
     "execution_count": 61,
     "metadata": {},
     "output_type": "execute_result"
    }
   ],
   "source": [
    "my_series.loc[my_series != 2]"
   ]
  },
  {
   "cell_type": "code",
   "execution_count": 63,
   "id": "4bc33564-63c0-4897-8f94-f079af7f229a",
   "metadata": {},
   "outputs": [
    {
     "data": {
      "text/plain": [
       "day 1    1\n",
       "day 2    2\n",
       "dtype: int64"
      ]
     },
     "execution_count": 63,
     "metadata": {},
     "output_type": "execute_result"
    }
   ],
   "source": [
    "my_series.loc[my_series.isin([1,2])]"
   ]
  },
  {
   "cell_type": "code",
   "execution_count": 65,
   "id": "292a4182-6954-47cf-b12f-0ae8d7c173c6",
   "metadata": {},
   "outputs": [
    {
     "data": {
      "text/plain": [
       "day 3    3\n",
       "day 4    4\n",
       "dtype: int64"
      ]
     },
     "execution_count": 65,
     "metadata": {},
     "output_type": "execute_result"
    }
   ],
   "source": [
    "my_series.loc[my_series > 2]"
   ]
  },
  {
   "cell_type": "code",
   "execution_count": 69,
   "id": "b5673db3-c827-4490-b42d-9a3971f194d4",
   "metadata": {},
   "outputs": [
    {
     "data": {
      "text/plain": [
       "day 4    4\n",
       "day 3    3\n",
       "day 2    2\n",
       "day 1    1\n",
       "day 0    0\n",
       "dtype: int64"
      ]
     },
     "execution_count": 69,
     "metadata": {},
     "output_type": "execute_result"
    }
   ],
   "source": [
    " my_series.sort_values(ascending=False)"
   ]
  },
  {
   "cell_type": "code",
   "execution_count": 71,
   "id": "32a39da3-fce1-4f71-945e-f68dc6414e15",
   "metadata": {},
   "outputs": [
    {
     "data": {
      "text/plain": [
       "day 0    1.0\n",
       "day 1    NaN\n",
       "day 2    3.0\n",
       "day 3    4.0\n",
       "day 4    5.0\n",
       "dtype: float64"
      ]
     },
     "execution_count": 71,
     "metadata": {},
     "output_type": "execute_result"
    }
   ],
   "source": [
    "new_my_series = pd.Series([1,np.NaN,3,4,5], index = [\"day 0\",\"day 1\",\"day 2\",\"day 3\",\"day 4\"])\n",
    "new_my_series"
   ]
  },
  {
   "cell_type": "code",
   "execution_count": 73,
   "id": "b72b2c03-70c7-4d77-ac6f-9c638ebb9ab4",
   "metadata": {},
   "outputs": [
    {
     "data": {
      "text/plain": [
       "day 0    2.0\n",
       "day 1    NaN\n",
       "day 2    4.0\n",
       "day 3    5.0\n",
       "day 4    6.0\n",
       "dtype: float64"
      ]
     },
     "execution_count": 73,
     "metadata": {},
     "output_type": "execute_result"
    }
   ],
   "source": [
    "new_my_series + 1"
   ]
  },
  {
   "cell_type": "code",
   "execution_count": 87,
   "id": "b137852f-f338-4044-9add-6accf5b61976",
   "metadata": {},
   "outputs": [
    {
     "data": {
      "text/plain": [
       "day 0    2\n",
       "day 1    1\n",
       "day 2    4\n",
       "day 3    5\n",
       "day 4    6\n",
       "dtype: int32"
      ]
     },
     "execution_count": 87,
     "metadata": {},
     "output_type": "execute_result"
    }
   ],
   "source": [
    "new_my_series2 = new_my_series.add(1, fill_value = 0).astype('int') \n",
    "new_my_series2"
   ]
  },
  {
   "cell_type": "code",
   "execution_count": 97,
   "id": "64c7bf70-6f98-4814-bdda-bc45f87bbc22",
   "metadata": {},
   "outputs": [
    {
     "data": {
      "text/plain": [
       "day 0    1.5\n",
       "day 1    NaN\n",
       "day 2    3.5\n",
       "day 3    4.5\n",
       "day 4    5.5\n",
       "dtype: float64"
      ]
     },
     "execution_count": 97,
     "metadata": {},
     "output_type": "execute_result"
    }
   ],
   "source": [
    "(new_my_series2 + new_my_series) / 2 "
   ]
  },
  {
   "cell_type": "code",
   "execution_count": 103,
   "id": "f802052d-928f-4099-a632-73cf783beb40",
   "metadata": {},
   "outputs": [
    {
     "data": {
      "text/plain": [
       "0    day 0\n",
       "1    day 1\n",
       "2    day 2\n",
       "3    day 3\n",
       "4    day 4\n",
       "dtype: object"
      ]
     },
     "execution_count": 103,
     "metadata": {},
     "output_type": "execute_result"
    }
   ],
   "source": [
    "string_series = pd.Series([\"day 0\",\"day 1\",\"day 2\",\"day 3\",\"day 4\"])\n",
    "string_series"
   ]
  },
  {
   "cell_type": "code",
   "execution_count": 109,
   "id": "1e1e7e6e-fbff-40ac-ba24-6e153b0666d0",
   "metadata": {},
   "outputs": [
    {
     "data": {
      "text/plain": [
       "0    False\n",
       "1    False\n",
       "2    False\n",
       "3     True\n",
       "4    False\n",
       "dtype: bool"
      ]
     },
     "execution_count": 109,
     "metadata": {},
     "output_type": "execute_result"
    }
   ],
   "source": [
    "string_series.str.upper().str.contains(\"DAY 3\")"
   ]
  },
  {
   "cell_type": "code",
   "execution_count": 113,
   "id": "36c2a2c5-6fa5-48dc-8928-123299207830",
   "metadata": {},
   "outputs": [
    {
     "data": {
      "text/plain": [
       "0    0\n",
       "1    1\n",
       "2    2\n",
       "3    3\n",
       "4    4\n",
       "dtype: int32"
      ]
     },
     "execution_count": 113,
     "metadata": {},
     "output_type": "execute_result"
    }
   ],
   "source": [
    "string_series.str.strip(\"day\").astype('int')"
   ]
  },
  {
   "cell_type": "code",
   "execution_count": 119,
   "id": "fcf9aa1d-065a-4559-93ad-fafc6426b406",
   "metadata": {},
   "outputs": [
    {
     "data": {
      "text/plain": [
       "0    0.0\n",
       "1    1.0\n",
       "2    2.0\n",
       "3    3.0\n",
       "4    4.0\n",
       "dtype: float64"
      ]
     },
     "execution_count": 119,
     "metadata": {},
     "output_type": "execute_result"
    }
   ],
   "source": [
    "string_series.str[-1].astype('float')"
   ]
  },
  {
   "cell_type": "code",
   "execution_count": 125,
   "id": "50cada9e-6459-4efc-bb13-ad6725eb003e",
   "metadata": {},
   "outputs": [
    {
     "data": {
      "text/html": [
       "<div>\n",
       "<style scoped>\n",
       "    .dataframe tbody tr th:only-of-type {\n",
       "        vertical-align: middle;\n",
       "    }\n",
       "\n",
       "    .dataframe tbody tr th {\n",
       "        vertical-align: top;\n",
       "    }\n",
       "\n",
       "    .dataframe thead th {\n",
       "        text-align: right;\n",
       "    }\n",
       "</style>\n",
       "<table border=\"1\" class=\"dataframe\">\n",
       "  <thead>\n",
       "    <tr style=\"text-align: right;\">\n",
       "      <th></th>\n",
       "      <th>0</th>\n",
       "      <th>1</th>\n",
       "    </tr>\n",
       "  </thead>\n",
       "  <tbody>\n",
       "    <tr>\n",
       "      <th>0</th>\n",
       "      <td>day</td>\n",
       "      <td>0</td>\n",
       "    </tr>\n",
       "    <tr>\n",
       "      <th>1</th>\n",
       "      <td>day</td>\n",
       "      <td>1</td>\n",
       "    </tr>\n",
       "    <tr>\n",
       "      <th>2</th>\n",
       "      <td>day</td>\n",
       "      <td>2</td>\n",
       "    </tr>\n",
       "    <tr>\n",
       "      <th>3</th>\n",
       "      <td>day</td>\n",
       "      <td>3</td>\n",
       "    </tr>\n",
       "    <tr>\n",
       "      <th>4</th>\n",
       "      <td>day</td>\n",
       "      <td>4</td>\n",
       "    </tr>\n",
       "  </tbody>\n",
       "</table>\n",
       "</div>"
      ],
      "text/plain": [
       "     0  1\n",
       "0  day  0\n",
       "1  day  1\n",
       "2  day  2\n",
       "3  day  3\n",
       "4  day  4"
      ]
     },
     "execution_count": 125,
     "metadata": {},
     "output_type": "execute_result"
    }
   ],
   "source": [
    "string_series.str.split(' ',expand = True)"
   ]
  },
  {
   "cell_type": "code",
   "execution_count": null,
   "id": "8b686f00-1a65-4fc2-8363-61e9ce30beb1",
   "metadata": {},
   "outputs": [],
   "source": []
  }
 ],
 "metadata": {
  "kernelspec": {
   "display_name": "Python [conda env:base] *",
   "language": "python",
   "name": "conda-base-py"
  },
  "language_info": {
   "codemirror_mode": {
    "name": "ipython",
    "version": 3
   },
   "file_extension": ".py",
   "mimetype": "text/x-python",
   "name": "python",
   "nbconvert_exporter": "python",
   "pygments_lexer": "ipython3",
   "version": "3.12.7"
  }
 },
 "nbformat": 4,
 "nbformat_minor": 5
}
