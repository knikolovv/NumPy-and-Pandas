{
 "cells": [
  {
   "cell_type": "code",
   "execution_count": 1,
   "id": "d28c7b86-101e-44c1-84cb-6bbdf48d19e3",
   "metadata": {},
   "outputs": [],
   "source": [
    "import numpy as np"
   ]
  },
  {
   "cell_type": "code",
   "execution_count": 3,
   "id": "4c58f428-c789-4661-8754-431a1efb2ca7",
   "metadata": {},
   "outputs": [],
   "source": [
    "integer_array = np.arange(12)"
   ]
  },
  {
   "cell_type": "code",
   "execution_count": 7,
   "id": "17a5b1e5-3edd-49d2-ad2c-3d78a4114c4a",
   "metadata": {},
   "outputs": [
    {
     "data": {
      "text/plain": [
       "array([ 0,  1,  2,  3,  4,  5,  6,  7,  8,  9, 10, 11])"
      ]
     },
     "execution_count": 7,
     "metadata": {},
     "output_type": "execute_result"
    }
   ],
   "source": [
    "integer_array"
   ]
  },
  {
   "cell_type": "code",
   "execution_count": 9,
   "id": "0d402f07-788d-47ba-bd20-169784dd36c4",
   "metadata": {},
   "outputs": [
    {
     "data": {
      "text/plain": [
       "3"
      ]
     },
     "execution_count": 9,
     "metadata": {},
     "output_type": "execute_result"
    }
   ],
   "source": [
    "integer_array[3]"
   ]
  },
  {
   "cell_type": "code",
   "execution_count": 11,
   "id": "f5215a84-90f3-499d-bd7a-794ddd704d87",
   "metadata": {},
   "outputs": [
    {
     "data": {
      "text/plain": [
       "10"
      ]
     },
     "execution_count": 11,
     "metadata": {},
     "output_type": "execute_result"
    }
   ],
   "source": [
    "integer_array[-2]"
   ]
  },
  {
   "cell_type": "code",
   "execution_count": 13,
   "id": "bacdb7fb-a7b6-428d-a410-669fb62a1fbd",
   "metadata": {},
   "outputs": [
    {
     "data": {
      "text/plain": [
       "array([0, 1, 2, 3, 4])"
      ]
     },
     "execution_count": 13,
     "metadata": {},
     "output_type": "execute_result"
    }
   ],
   "source": [
    "integer_array[:5]"
   ]
  },
  {
   "cell_type": "code",
   "execution_count": 15,
   "id": "994a560c-1557-4329-addc-dbf96049a942",
   "metadata": {},
   "outputs": [
    {
     "data": {
      "text/plain": [
       "array([ 0,  1,  2,  3,  4,  5,  6,  7,  8,  9, 10, 11])"
      ]
     },
     "execution_count": 15,
     "metadata": {},
     "output_type": "execute_result"
    }
   ],
   "source": [
    "integer_array[:]"
   ]
  },
  {
   "cell_type": "code",
   "execution_count": 17,
   "id": "7f851b5c-35fd-4e92-acb9-b1021cbb620c",
   "metadata": {},
   "outputs": [
    {
     "data": {
      "text/plain": [
       "array([0, 1, 2, 3, 4, 5, 6, 7, 8])"
      ]
     },
     "execution_count": 17,
     "metadata": {},
     "output_type": "execute_result"
    }
   ],
   "source": [
    "integer_array[:-3]"
   ]
  },
  {
   "cell_type": "code",
   "execution_count": 19,
   "id": "58224c2b-428f-4920-9269-3224db02a133",
   "metadata": {},
   "outputs": [
    {
     "data": {
      "text/plain": [
       "array([ 0,  2,  4,  6,  8, 10])"
      ]
     },
     "execution_count": 19,
     "metadata": {},
     "output_type": "execute_result"
    }
   ],
   "source": [
    "integer_array[::2]"
   ]
  },
  {
   "cell_type": "code",
   "execution_count": 21,
   "id": "57c5d62f-a12a-4a1f-afc2-472974f7d11b",
   "metadata": {},
   "outputs": [],
   "source": [
    "new_array = integer_array.reshape(3,4)"
   ]
  },
  {
   "cell_type": "code",
   "execution_count": 23,
   "id": "0f610257-89b4-4b09-921b-847db2417116",
   "metadata": {},
   "outputs": [
    {
     "data": {
      "text/plain": [
       "array([[ 0,  1,  2,  3],\n",
       "       [ 4,  5,  6,  7],\n",
       "       [ 8,  9, 10, 11]])"
      ]
     },
     "execution_count": 23,
     "metadata": {},
     "output_type": "execute_result"
    }
   ],
   "source": [
    "new_array"
   ]
  },
  {
   "cell_type": "code",
   "execution_count": 25,
   "id": "5e914c89-ccd7-4490-99c6-4fcd14acdb45",
   "metadata": {},
   "outputs": [
    {
     "data": {
      "text/plain": [
       "array([[ 0,  1,  2,  3],\n",
       "       [ 4,  5,  6,  7],\n",
       "       [ 8,  9, 10, 11]])"
      ]
     },
     "execution_count": 25,
     "metadata": {},
     "output_type": "execute_result"
    }
   ],
   "source": [
    "new_array[:,:]"
   ]
  },
  {
   "cell_type": "code",
   "execution_count": 27,
   "id": "7612e97f-87a1-46ae-875f-7adcee8e3a82",
   "metadata": {},
   "outputs": [
    {
     "data": {
      "text/plain": [
       "array([4, 5, 6, 7])"
      ]
     },
     "execution_count": 27,
     "metadata": {},
     "output_type": "execute_result"
    }
   ],
   "source": [
    "new_array[1,:]"
   ]
  },
  {
   "cell_type": "code",
   "execution_count": 29,
   "id": "3e87652a-af1c-4ec4-84ee-746d10a1bd17",
   "metadata": {},
   "outputs": [
    {
     "data": {
      "text/plain": [
       "array([4, 5, 6, 7])"
      ]
     },
     "execution_count": 29,
     "metadata": {},
     "output_type": "execute_result"
    }
   ],
   "source": [
    "new_array[1,:]"
   ]
  },
  {
   "cell_type": "code",
   "execution_count": 31,
   "id": "dd7a1f65-b880-4924-af47-7fefdc28e654",
   "metadata": {},
   "outputs": [
    {
     "data": {
      "text/plain": [
       "array([[ 4,  5,  6,  7],\n",
       "       [ 8,  9, 10, 11]])"
      ]
     },
     "execution_count": 31,
     "metadata": {},
     "output_type": "execute_result"
    }
   ],
   "source": [
    "new_array[1:,:]"
   ]
  },
  {
   "cell_type": "code",
   "execution_count": 35,
   "id": "cea4a969-ad5f-4fab-b29d-37efaba3d634",
   "metadata": {},
   "outputs": [
    {
     "data": {
      "text/plain": [
       "6"
      ]
     },
     "execution_count": 35,
     "metadata": {},
     "output_type": "execute_result"
    }
   ],
   "source": [
    "new_array[1,2]"
   ]
  },
  {
   "cell_type": "code",
   "execution_count": 39,
   "id": "c1d52aac-efaa-4d24-95dc-1babca4cbae6",
   "metadata": {},
   "outputs": [
    {
     "data": {
      "text/plain": [
       "array([0, 4, 8])"
      ]
     },
     "execution_count": 39,
     "metadata": {},
     "output_type": "execute_result"
    }
   ],
   "source": [
    "new_array[:,0]"
   ]
  },
  {
   "cell_type": "code",
   "execution_count": 45,
   "id": "f0a75ea5-b162-4434-8bc6-c2c8123c7432",
   "metadata": {},
   "outputs": [
    {
     "data": {
      "text/plain": [
       "array([39, 39, 93, 86, 48, 46, 48, 30, 11, 57], dtype=int64)"
      ]
     },
     "execution_count": 45,
     "metadata": {},
     "output_type": "execute_result"
    }
   ],
   "source": [
    "rng = np.random.default_rng(616)\n",
    "\n",
    "inventory = rng.integers(0,100,10)\n",
    "\n",
    "inventory"
   ]
  },
  {
   "cell_type": "code",
   "execution_count": 47,
   "id": "da902c94-2f32-4d89-a094-a964e05e2f31",
   "metadata": {},
   "outputs": [
    {
     "data": {
      "text/plain": [
       "array([ 15,  15,  69,  62,  24,  22,  24,   6, -13,  33], dtype=int64)"
      ]
     },
     "execution_count": 47,
     "metadata": {},
     "output_type": "execute_result"
    }
   ],
   "source": [
    "inventory - 24"
   ]
  },
  {
   "cell_type": "code",
   "execution_count": 49,
   "id": "74b0c23b-71bd-4fbc-98c1-ee0a3616bb8e",
   "metadata": {},
   "outputs": [
    {
     "data": {
      "text/plain": [
       "array([19.5, 19.5, 46.5, 43. , 24. , 23. , 24. , 15. ,  5.5, 28.5])"
      ]
     },
     "execution_count": 49,
     "metadata": {},
     "output_type": "execute_result"
    }
   ],
   "source": [
    "inventory /2\n"
   ]
  },
  {
   "cell_type": "code",
   "execution_count": 127,
   "id": "5d82fa87-422e-4f41-843f-2312e98e5204",
   "metadata": {},
   "outputs": [
    {
     "data": {
      "text/plain": [
       "array([3.36, 6.33, 6.29, 3.64, 6.47, 2.98, 5.94, 6.61, 2.78, 0.86])"
      ]
     },
     "execution_count": 127,
     "metadata": {},
     "output_type": "execute_result"
    }
   ],
   "source": [
    "price = (rng.random(10) * 10).round(2)\n",
    "\n",
    "price"
   ]
  },
  {
   "cell_type": "code",
   "execution_count": 131,
   "id": "643bebd2-9d50-43f9-b8da-beff442e3367",
   "metadata": {},
   "outputs": [
    {
     "data": {
      "text/plain": [
       "array([131.04, 246.87, 584.97, 313.04, 310.56, 137.08, 285.12, 198.3 ,\n",
       "        30.58,  49.02])"
      ]
     },
     "execution_count": 131,
     "metadata": {},
     "output_type": "execute_result"
    }
   ],
   "source": [
    "(price * inventory)"
   ]
  },
  {
   "cell_type": "code",
   "execution_count": 67,
   "id": "d2dccc80-d6a5-467d-9e37-099703263be3",
   "metadata": {},
   "outputs": [
    {
     "data": {
      "text/plain": [
       "[39, 39, 93, 86, 48, 46, 48, 30, 11, 57]"
      ]
     },
     "execution_count": 67,
     "metadata": {},
     "output_type": "execute_result"
    }
   ],
   "source": [
    "inventory_list = list(inventory)\n",
    "\n",
    "inventory_list"
   ]
  },
  {
   "cell_type": "code",
   "execution_count": 73,
   "id": "f138612b-b3bd-4b39-9f03-81be7bc8ac95",
   "metadata": {},
   "outputs": [
    {
     "data": {
      "text/plain": [
       "array([ 0,  1,  2,  3,  4,  5,  6,  7,  8,  9, 10, 11, 12, 13, 14, 15, 16,\n",
       "       17, 18, 19])"
      ]
     },
     "execution_count": 73,
     "metadata": {},
     "output_type": "execute_result"
    }
   ],
   "source": [
    "filtering_array = np.arange(20)\n",
    "\n",
    "filtering_array"
   ]
  },
  {
   "cell_type": "code",
   "execution_count": 75,
   "id": "ea1022e3-b047-4242-84a7-c2ce774a9488",
   "metadata": {},
   "outputs": [
    {
     "data": {
      "text/plain": [
       "array([ True, False,  True, False,  True, False,  True, False,  True,\n",
       "       False,  True, False,  True, False,  True, False,  True, False,\n",
       "        True, False])"
      ]
     },
     "execution_count": 75,
     "metadata": {},
     "output_type": "execute_result"
    }
   ],
   "source": [
    "filtering_array % 2 == 0"
   ]
  },
  {
   "cell_type": "code",
   "execution_count": 77,
   "id": "11755ea7-edf8-44f7-adac-2f37a686e2ec",
   "metadata": {},
   "outputs": [
    {
     "data": {
      "text/plain": [
       "array([ 0,  2,  4,  6,  8, 10, 12, 14, 16, 18])"
      ]
     },
     "execution_count": 77,
     "metadata": {},
     "output_type": "execute_result"
    }
   ],
   "source": [
    "filtering_array[filtering_array % 2 == 0]"
   ]
  },
  {
   "cell_type": "code",
   "execution_count": 79,
   "id": "cd2dba85-d917-40be-8cc8-2b95b27af337",
   "metadata": {},
   "outputs": [
    {
     "data": {
      "text/plain": [
       "array(['even', 'odd', 'even', 'odd', 'even', 'odd', 'even', 'odd', 'even',\n",
       "       'odd', 'even', 'odd', 'even', 'odd', 'even', 'odd', 'even', 'odd',\n",
       "       'even', 'odd'], dtype='<U4')"
      ]
     },
     "execution_count": 79,
     "metadata": {},
     "output_type": "execute_result"
    }
   ],
   "source": [
    "even_odd = np.array(['even','odd']*10)\n",
    "even_odd"
   ]
  },
  {
   "cell_type": "code",
   "execution_count": 81,
   "id": "d652b1c9-f938-4658-a603-8a6751ad2349",
   "metadata": {},
   "outputs": [
    {
     "data": {
      "text/plain": [
       "array([ True, False,  True, False,  True, False,  True, False,  True,\n",
       "       False,  True, False,  True, False,  True, False,  True, False,\n",
       "        True, False])"
      ]
     },
     "execution_count": 81,
     "metadata": {},
     "output_type": "execute_result"
    }
   ],
   "source": [
    "even_odd != 'odd'"
   ]
  },
  {
   "cell_type": "code",
   "execution_count": 87,
   "id": "531bdf5a-2429-4281-beb7-59b47e235b13",
   "metadata": {},
   "outputs": [
    {
     "data": {
      "text/plain": [
       "array([ 0,  1,  0,  3,  0,  5,  0,  7,  0,  9,  0, 11,  0, 13,  0, 15,  0,\n",
       "       17,  0, 19])"
      ]
     },
     "execution_count": 87,
     "metadata": {},
     "output_type": "execute_result"
    }
   ],
   "source": [
    "filtering_array[even_odd != 'odd'] = 0\n",
    "\n",
    "filtering_array"
   ]
  },
  {
   "cell_type": "code",
   "execution_count": 91,
   "id": "92d2f831-ed54-4f3f-8471-0818c6adda64",
   "metadata": {},
   "outputs": [
    {
     "data": {
      "text/plain": [
       "array([ 0,  1,  2,  3,  0,  5,  0,  7,  0,  9,  0, 11,  0, 13,  0, 15,  0,\n",
       "       17,  0, 19])"
      ]
     },
     "execution_count": 91,
     "metadata": {},
     "output_type": "execute_result"
    }
   ],
   "source": [
    "filtering_array[2] = 2\n",
    "\n",
    "filtering_array"
   ]
  },
  {
   "cell_type": "code",
   "execution_count": 103,
   "id": "378b39e7-3aba-4450-af69-7c4a0c80593e",
   "metadata": {},
   "outputs": [
    {
     "data": {
      "text/plain": [
       "array(['odd', 'odd', 'odd', 'odd', 'odd', 'odd', 'odd', 'odd', 'odd',\n",
       "       'odd'], dtype='<U4')"
      ]
     },
     "execution_count": 103,
     "metadata": {},
     "output_type": "execute_result"
    }
   ],
   "source": [
    "mask = (even_odd != 'odd') | (even_odd != 'even')\n",
    "even_odd[mask]"
   ]
  },
  {
   "cell_type": "code",
   "execution_count": 107,
   "id": "4a8325b0-b4a0-41d6-a034-2a5a5bbb035c",
   "metadata": {},
   "outputs": [
    {
     "data": {
      "text/plain": [
       "array(['even', 'odd', 'even', 'odd', 'even', 'odd', 'even', 'odd', 'even',\n",
       "       'odd', 'even', 'odd', 'even', 'odd', 'even', 'odd', 'even', 'odd',\n",
       "       'even', 'odd'], dtype='<U4')"
      ]
     },
     "execution_count": 107,
     "metadata": {},
     "output_type": "execute_result"
    }
   ],
   "source": [
    "np.where(filtering_array % 2 == 0,'even','odd')"
   ]
  },
  {
   "cell_type": "code",
   "execution_count": 109,
   "id": "391bfc8f-ad11-4882-9b81-feace09ae8e8",
   "metadata": {},
   "outputs": [
    {
     "data": {
      "text/plain": [
       "array(['even', 'odd', 'even', 'odd', 'even', 'odd', 'even', 'odd', 'even',\n",
       "       '9', 'even', 'odd', 'even', 'odd', 'even', 'odd', 'even', 'odd',\n",
       "       'even', 'odd'], dtype='<U11')"
      ]
     },
     "execution_count": 109,
     "metadata": {},
     "output_type": "execute_result"
    }
   ],
   "source": [
    "np.where(filtering_array % 2 == 0,'even',np.where(filtering_array == 9,filtering_array,'odd'))"
   ]
  },
  {
   "cell_type": "code",
   "execution_count": 135,
   "id": "64bb49a1-5645-4148-b541-289e16ad22c0",
   "metadata": {},
   "outputs": [
    {
     "data": {
      "text/plain": [
       "49.7"
      ]
     },
     "execution_count": 135,
     "metadata": {},
     "output_type": "execute_result"
    }
   ],
   "source": [
    "inventory.mean()"
   ]
  },
  {
   "cell_type": "code",
   "execution_count": 147,
   "id": "788e5518-2720-4cdf-a8f7-4795057338d3",
   "metadata": {},
   "outputs": [
    {
     "data": {
      "text/plain": [
       "6.61"
      ]
     },
     "execution_count": 147,
     "metadata": {},
     "output_type": "execute_result"
    }
   ],
   "source": [
    "price.max()"
   ]
  },
  {
   "cell_type": "code",
   "execution_count": 157,
   "id": "498255f8-0f5d-4740-8f3f-74535b77d097",
   "metadata": {},
   "outputs": [
    {
     "data": {
      "text/plain": [
       "8"
      ]
     },
     "execution_count": 157,
     "metadata": {},
     "output_type": "execute_result"
    }
   ],
   "source": [
    "(price * inventory).argmin()"
   ]
  },
  {
   "cell_type": "code",
   "execution_count": 163,
   "id": "883d7bd9-d744-45d6-9304-f38b6a611464",
   "metadata": {},
   "outputs": [
    {
     "data": {
      "text/plain": [
       "array([[3.36, 6.33],\n",
       "       [6.29, 3.64],\n",
       "       [6.47, 2.98],\n",
       "       [5.94, 6.61],\n",
       "       [2.78, 0.86]])"
      ]
     },
     "execution_count": 163,
     "metadata": {},
     "output_type": "execute_result"
    }
   ],
   "source": [
    "price_2d = price.reshape(5,2)\n",
    "price_2d"
   ]
  },
  {
   "cell_type": "code",
   "execution_count": 171,
   "id": "4d5cf3d9-a95d-498d-a08b-38146e99fa5a",
   "metadata": {},
   "outputs": [
    {
     "data": {
      "text/plain": [
       "array([4.968, 4.084])"
      ]
     },
     "execution_count": 171,
     "metadata": {},
     "output_type": "execute_result"
    }
   ],
   "source": [
    "price_2d.mean(axis=0)"
   ]
  },
  {
   "cell_type": "code",
   "execution_count": 179,
   "id": "d691d580-f215-4200-a9da-0c5cf46ec996",
   "metadata": {},
   "outputs": [
    {
     "data": {
      "text/plain": [
       "array([  3.68,   6.24,  26.15, 106.44, 138.4 , 158.4 , 186.24, 202.92,\n",
       "       205.4 , 403.2 ])"
      ]
     },
     "execution_count": 179,
     "metadata": {},
     "output_type": "execute_result"
    }
   ],
   "source": [
    "inventory2 = np.array([79,22,20,48,8,76,12,16,5,64])\n",
    "price2 = np.array([2.6,7.2,6.92,3.88,0.78,2.67,8.87,0.23,5.23,6.3])\n",
    "\n",
    "product_value = price2 * inventory2\n",
    "product_value.sort()\n",
    "product_value"
   ]
  },
  {
   "cell_type": "code",
   "execution_count": 181,
   "id": "d21e6492-4f1b-4d5d-85c3-fd8d45146fc8",
   "metadata": {},
   "outputs": [
    {
     "data": {
      "text/plain": [
       "array([[  3.68,   6.24,  26.15, 106.44, 138.4 ],\n",
       "       [158.4 , 186.24, 202.92, 205.4 , 403.2 ]])"
      ]
     },
     "execution_count": 181,
     "metadata": {},
     "output_type": "execute_result"
    }
   ],
   "source": [
    "reshaped_product_value = product_value.reshape(2,5)\n",
    "reshaped_product_value"
   ]
  },
  {
   "cell_type": "code",
   "execution_count": 183,
   "id": "46ac2685-0a56-402e-a342-bca84a8c7620",
   "metadata": {},
   "outputs": [
    {
     "data": {
      "text/plain": [
       "148.4"
      ]
     },
     "execution_count": 183,
     "metadata": {},
     "output_type": "execute_result"
    }
   ],
   "source": [
    "np.median(reshaped_product_value)"
   ]
  },
  {
   "cell_type": "code",
   "execution_count": 209,
   "id": "8663c053-81ca-486b-b806-e740dc6c9fde",
   "metadata": {},
   "outputs": [
    {
     "data": {
      "text/plain": [
       "5.984"
      ]
     },
     "execution_count": 209,
     "metadata": {},
     "output_type": "execute_result"
    }
   ],
   "source": [
    "np.percentile(reshaped_product_value,10)"
   ]
  },
  {
   "cell_type": "code",
   "execution_count": 211,
   "id": "18f4f0ae-1baa-47c0-91d7-9be98a7c6f59",
   "metadata": {},
   "outputs": [
    {
     "data": {
      "text/plain": [
       "array([[ 1.91833261,  2.4979992 ,  5.11370707, 10.3169763 , 11.76435294],\n",
       "       [12.58570618, 13.64697769, 14.24499912, 14.33178286, 20.07984064]])"
      ]
     },
     "execution_count": 211,
     "metadata": {},
     "output_type": "execute_result"
    }
   ],
   "source": [
    "np.sqrt(reshaped_product_value)"
   ]
  },
  {
   "cell_type": "code",
   "execution_count": 215,
   "id": "fb454fc5-1ae5-4ee8-a292-49959f501b93",
   "metadata": {},
   "outputs": [
    {
     "data": {
      "text/plain": [
       "array([  3.68,   6.24,  26.15, 106.44, 138.4 , 158.4 , 186.24, 202.92,\n",
       "       205.4 , 403.2 ])"
      ]
     },
     "execution_count": 215,
     "metadata": {},
     "output_type": "execute_result"
    }
   ],
   "source": [
    "np.unique(reshaped_product_value)"
   ]
  },
  {
   "cell_type": "code",
   "execution_count": null,
   "id": "bd583c81-3dcc-43b8-90f2-f46027df5466",
   "metadata": {},
   "outputs": [],
   "source": []
  }
 ],
 "metadata": {
  "kernelspec": {
   "display_name": "Python [conda env:base] *",
   "language": "python",
   "name": "conda-base-py"
  },
  "language_info": {
   "codemirror_mode": {
    "name": "ipython",
    "version": 3
   },
   "file_extension": ".py",
   "mimetype": "text/x-python",
   "name": "python",
   "nbconvert_exporter": "python",
   "pygments_lexer": "ipython3",
   "version": "3.12.7"
  }
 },
 "nbformat": 4,
 "nbformat_minor": 5
}
